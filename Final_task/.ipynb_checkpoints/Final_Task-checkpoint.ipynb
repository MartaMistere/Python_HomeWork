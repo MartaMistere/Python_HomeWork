{
 "cells": [
  {
   "cell_type": "code",
   "execution_count": 1,
   "id": "a5bca4bb",
   "metadata": {},
   "outputs": [],
   "source": [
    "from bs4 import BeautifulSoup"
   ]
  },
  {
   "cell_type": "code",
   "execution_count": 2,
   "id": "c55a95ec",
   "metadata": {},
   "outputs": [],
   "source": [
    "import requests"
   ]
  },
  {
   "cell_type": "code",
   "execution_count": 3,
   "id": "3f8362e5",
   "metadata": {},
   "outputs": [],
   "source": [
    "response=requests.get(\"https://databank.worldbank.org/indicator/SP.POP.TOTL/1ff4a498/Popular-Indicators#\")"
   ]
  },
  {
   "cell_type": "code",
   "execution_count": 9,
   "id": "89ac8b08",
   "metadata": {},
   "outputs": [],
   "source": [
    "html_content=response.content\n",
    "soup=BeautifulSoup(html_content, \"html.parser\")"
   ]
  },
  {
   "cell_type": "code",
   "execution_count": 15,
   "id": "0a9c6086",
   "metadata": {},
   "outputs": [],
   "source": [
    "table_countries=soup.find(\"table\")"
   ]
  },
  {
   "cell_type": "code",
   "execution_count": 16,
   "id": "ccc2e78c",
   "metadata": {},
   "outputs": [],
   "source": [
    "import pandas as pd"
   ]
  },
  {
   "cell_type": "code",
   "execution_count": 18,
   "id": "307625ff",
   "metadata": {},
   "outputs": [],
   "source": []
  },
  {
   "cell_type": "code",
   "execution_count": null,
   "id": "9a20890b",
   "metadata": {},
   "outputs": [],
   "source": []
  }
 ],
 "metadata": {
  "kernelspec": {
   "display_name": "Python 3 (ipykernel)",
   "language": "python",
   "name": "python3"
  },
  "language_info": {
   "codemirror_mode": {
    "name": "ipython",
    "version": 3
   },
   "file_extension": ".py",
   "mimetype": "text/x-python",
   "name": "python",
   "nbconvert_exporter": "python",
   "pygments_lexer": "ipython3",
   "version": "3.11.2"
  }
 },
 "nbformat": 4,
 "nbformat_minor": 5
}
